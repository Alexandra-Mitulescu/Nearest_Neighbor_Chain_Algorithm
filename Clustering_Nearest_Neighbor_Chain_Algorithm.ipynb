{
  "nbformat": 4,
  "nbformat_minor": 0,
  "metadata": {
    "colab": {
      "provenance": []
    },
    "kernelspec": {
      "name": "python3",
      "display_name": "Python 3"
    },
    "language_info": {
      "name": "python"
    }
  },
  "cells": [
    {
      "cell_type": "code",
      "execution_count": null,
      "metadata": {
        "id": "7wZI55w14ri9"
      },
      "outputs": [],
      "source": [
        "from google.colab import drive\n",
        "import os\n",
        "import zipfile\n",
        "import numpy as np\n",
        "import pandas as pd\n",
        "from scipy.cluster.hierarchy import dendrogram, linkage\n",
        "from scipy.spatial.distance import cdist\n",
        "from matplotlib import pyplot as plt\n",
        "from scipy.spatial import distance\n",
        "import math\n",
        "%matplotlib inline\n",
        "np.set_printoptions(precision=5, suppress=True)"
      ]
    },
    {
      "cell_type": "code",
      "source": [
        "drive.mount('/content/drive')"
      ],
      "metadata": {
        "colab": {
          "base_uri": "https://localhost:8080/"
        },
        "id": "mx0yv0dw5ilt",
        "outputId": "4da92b8a-e9ac-4205-8777-3a98032b2a0b"
      },
      "execution_count": null,
      "outputs": [
        {
          "output_type": "stream",
          "name": "stdout",
          "text": [
            "Mounted at /content/drive\n"
          ]
        }
      ]
    },
    {
      "cell_type": "code",
      "source": [
        "zip_ref = zipfile.ZipFile('/content/drive/MyDrive/DM/Dataset.zip', 'r')\n",
        "zip_ref.extractall('/tmp')\n",
        "zip_ref.close()"
      ],
      "metadata": {
        "id": "CwrGeInf5ipL"
      },
      "execution_count": null,
      "outputs": []
    },
    {
      "cell_type": "code",
      "source": [
        "len(os.listdir('/tmp/Dataset/'))"
      ],
      "metadata": {
        "colab": {
          "base_uri": "https://localhost:8080/"
        },
        "id": "cYsLHU-45iq1",
        "outputId": "db1e99ec-275e-4c21-a22f-c7a32c492db8"
      },
      "execution_count": null,
      "outputs": [
        {
          "output_type": "execute_result",
          "data": {
            "text/plain": [
              "1"
            ]
          },
          "metadata": {},
          "execution_count": 5
        }
      ]
    },
    {
      "cell_type": "code",
      "source": [
        "c1 = pd.read_csv(\"/tmp/Dataset/Mall_Customers.csv\")"
      ],
      "metadata": {
        "id": "AFW6rol65isZ"
      },
      "execution_count": null,
      "outputs": []
    },
    {
      "cell_type": "code",
      "source": [
        "print(\"Original 'Mall_Customers.csv: '\")\n",
        "print(c1)"
      ],
      "metadata": {
        "colab": {
          "base_uri": "https://localhost:8080/"
        },
        "id": "cyEBxEj25iut",
        "outputId": "ab017303-5d7f-425d-bcfc-978eed03f3c6"
      },
      "execution_count": null,
      "outputs": [
        {
          "output_type": "stream",
          "name": "stdout",
          "text": [
            "Original 'Mall_Customers.csv: '\n",
            "     CustomerID   Genre  Age  Annual Income (k$)  Spending Score (1-100)\n",
            "0             1    Male   19                  15                      39\n",
            "1             2    Male   21                  15                      81\n",
            "2             3  Female   20                  16                       6\n",
            "3             4  Female   23                  16                      77\n",
            "4             5  Female   31                  17                      40\n",
            "..          ...     ...  ...                 ...                     ...\n",
            "195         196  Female   35                 120                      79\n",
            "196         197  Female   45                 126                      28\n",
            "197         198    Male   32                 126                      74\n",
            "198         199    Male   32                 137                      18\n",
            "199         200    Male   30                 137                      83\n",
            "\n",
            "[200 rows x 5 columns]\n"
          ]
        }
      ]
    },
    {
      "cell_type": "code",
      "source": [
        "c1.drop('Genre', inplace=True, axis=1)\n",
        "c1.drop('Age', inplace=True, axis=1)\n",
        "c1.drop('CustomerID', inplace=True, axis=1)\n",
        "print(c1)"
      ],
      "metadata": {
        "colab": {
          "base_uri": "https://localhost:8080/"
        },
        "id": "4i3nASJ35ixP",
        "outputId": "2aeece67-fd26-4482-b4fd-c2b19bfc920a"
      },
      "execution_count": null,
      "outputs": [
        {
          "output_type": "stream",
          "name": "stdout",
          "text": [
            "     Annual Income (k$)  Spending Score (1-100)\n",
            "0                    15                      39\n",
            "1                    15                      81\n",
            "2                    16                       6\n",
            "3                    16                      77\n",
            "4                    17                      40\n",
            "..                  ...                     ...\n",
            "195                 120                      79\n",
            "196                 126                      28\n",
            "197                 126                      74\n",
            "198                 137                      18\n",
            "199                 137                      83\n",
            "\n",
            "[200 rows x 2 columns]\n"
          ]
        }
      ]
    },
    {
      "cell_type": "code",
      "source": [
        "c1 = c1.rename(columns={\"Annual Income (k$)\": \"x0\", \"Spending Score (1-100)\": \"x1\"})"
      ],
      "metadata": {
        "id": "0IXEZ5QO8ERH"
      },
      "execution_count": null,
      "outputs": []
    },
    {
      "cell_type": "code",
      "source": [
        "plt.scatter(c1['x0'],c1['x1'])"
      ],
      "metadata": {
        "colab": {
          "base_uri": "https://localhost:8080/",
          "height": 282
        },
        "id": "kuKvZy1381eB",
        "outputId": "650d8718-5fc9-4f3f-a106-8fd596a4086c"
      },
      "execution_count": null,
      "outputs": [
        {
          "output_type": "execute_result",
          "data": {
            "text/plain": [
              "<matplotlib.collections.PathCollection at 0x7f946c09f640>"
            ]
          },
          "metadata": {},
          "execution_count": 10
        },
        {
          "output_type": "display_data",
          "data": {
            "text/plain": [
              "<Figure size 432x288 with 1 Axes>"
            ],
            "image/png": "[encoded data removed]"
          },
          "metadata": {
            "needs_background": "light"
          }
        }
      ]
    },
    {
      "cell_type": "code",
      "source": [
        "def single_distance(clusters ,cluster_num):\n",
        "    print('First cluster | ','Second cluster | ', 'Distance')\n",
        "    while len(clusters) is not cluster_num:\n",
        "        closest_distance=clust_1=clust_2 = math.inf\n",
        "        for cluster_id, cluster in enumerate(clusters[:len(clusters)]):\n",
        "            for point_id,point in enumerate(cluster):\n",
        "                for cluster2_id, cluster2 in enumerate(clusters[(cluster_id+1):]):\n",
        "                    for point2_id, point2 in enumerate(cluster2):\n",
        "                        if distance.euclidean(point,point2) < closest_distance:\n",
        "                            closest_distance = distance.euclidean(point,point2)\n",
        "                            clust_1 = cluster_id\n",
        "                            clust_2 = cluster2_id+cluster_id+1\n",
        "        print(clust_1,' | ',clust_2, ' | ',closest_distance)\n",
        "        clusters[clust_1].extend(clusters[clust_2])\n",
        "        clusters.pop(clust_2)\n",
        "    return(clusters)"
      ],
      "metadata": {
        "id": "WvHcx4qy9lwc"
      },
      "execution_count": null,
      "outputs": []
    },
    {
      "cell_type": "code",
      "source": [
        "### Hierarchical clustering\n",
        "def hierarchical(data, cluster_num, metric = 'single'):\n",
        "    init_clusters=[]\n",
        "    for index, row in data.iterrows():\n",
        "        init_clusters.append([[row['x0'], row['x1']]])\n",
        "    if metric is 'single':\n",
        "        return single_distance(init_clusters, cluster_num)"
      ],
      "metadata": {
        "colab": {
          "base_uri": "https://localhost:8080/"
        },
        "id": "KTUyoooC9oqD",
        "outputId": "ec12bc64-b0ef-4d91-e1d0-7264060e5091"
      },
      "execution_count": null,
      "outputs": [
        {
          "output_type": "stream",
          "name": "stderr",
          "text": [
            "<>:6: SyntaxWarning: \"is\" with a literal. Did you mean \"==\"?\n",
            "<>:6: SyntaxWarning: \"is\" with a literal. Did you mean \"==\"?\n",
            "<ipython-input-12-5fa42095c3b4>:6: SyntaxWarning: \"is\" with a literal. Did you mean \"==\"?\n",
            "  if metric is 'single':\n"
          ]
        }
      ]
    },
    {
      "cell_type": "code",
      "source": [
        "clusters = hierarchical(c1,7)\n",
        "colors = ['blue', 'red', 'purple', 'teal', 'yellow', 'pink', 'orange']\n",
        "for cluster_index, cluster in enumerate(clusters):\n",
        "    for point_index, point in enumerate(cluster):\n",
        "        plt.plot([point[0]], [point[1]], marker='o', markersize=3, color=colors[cluster_index])"
      ],
      "metadata": {
        "colab": {
          "base_uri": "https://localhost:8080/",
          "height": 1000
        },
        "id": "hZ26CLF_-CeQ",
        "outputId": "4b89c3db-6202-4019-8628-7029debaf35d"
      },
      "execution_count": null,
      "outputs": [
        {
          "output_type": "stream",
          "name": "stdout",
          "text": [
            "First cluster |  Second cluster |  Distance\n",
            "48  |  49  |  0.0\n",
            "64  |  67  |  0.0\n",
            "127  |  129  |  0.0\n",
            "153  |  155  |  0.0\n",
            "21  |  23  |  1.0\n",
            "49  |  51  |  1.0\n",
            "57  |  58  |  1.0\n",
            "59  |  61  |  1.0\n",
            "60  |  61  |  1.0\n",
            "61  |  62  |  1.0\n",
            "66  |  69  |  1.0\n",
            "66  |  76  |  1.0\n",
            "67  |  68  |  1.0\n",
            "67  |  71  |  1.0\n",
            "67  |  68  |  1.0\n",
            "67  |  69  |  1.0\n",
            "68  |  69  |  1.0\n",
            "77  |  82  |  1.0\n",
            "77  |  83  |  1.0\n",
            "79  |  82  |  1.0\n",
            "79  |  87  |  1.0\n",
            "79  |  82  |  1.0\n",
            "82  |  89  |  1.0\n",
            "84  |  85  |  1.0\n",
            "86  |  91  |  1.0\n",
            "96  |  97  |  1.0\n",
            "124  |  130  |  1.0\n",
            "124  |  126  |  1.0\n",
            "125  |  128  |  1.0\n",
            "141  |  145  |  1.0\n",
            "3  |  5  |  1.4142135623730951\n",
            "9  |  11  |  1.4142135623730951\n",
            "9  |  12  |  1.4142135623730951\n",
            "22  |  24  |  1.4142135623730951\n",
            "35  |  37  |  1.4142135623730951\n",
            "46  |  49  |  1.4142135623730951\n",
            "49  |  52  |  1.4142135623730951\n",
            "49  |  53  |  1.4142135623730951\n",
            "54  |  57  |  1.4142135623730951\n",
            "67  |  69  |  1.4142135623730951\n",
            "67  |  69  |  1.4142135623730951\n",
            "67  |  76  |  1.4142135623730951\n",
            "67  |  78  |  1.4142135623730951\n",
            "67  |  80  |  1.4142135623730951\n",
            "68  |  71  |  1.4142135623730951\n",
            "72  |  76  |  1.4142135623730951\n",
            "86  |  91  |  1.4142135623730951\n",
            "95  |  97  |  1.4142135623730951\n",
            "104  |  112  |  1.4142135623730951\n",
            "2  |  5  |  2.0\n",
            "10  |  11  |  2.0\n",
            "44  |  48  |  2.0\n",
            "47  |  50  |  2.0\n",
            "53  |  56  |  2.0\n",
            "53  |  55  |  2.0\n",
            "54  |  55  |  2.0\n",
            "56  |  59  |  2.0\n",
            "59  |  71  |  2.0\n",
            "60  |  62  |  2.0\n",
            "60  |  61  |  2.0\n",
            "60  |  63  |  2.0\n",
            "60  |  63  |  2.0\n",
            "60  |  64  |  2.0\n",
            "60  |  63  |  2.0\n",
            "60  |  63  |  2.0\n",
            "60  |  62  |  2.0\n",
            "71  |  73  |  2.0\n",
            "74  |  76  |  2.0\n",
            "74  |  78  |  2.0\n",
            "85  |  88  |  2.0\n",
            "88  |  90  |  2.0\n",
            "95  |  101  |  2.0\n",
            "100  |  104  |  2.0\n",
            "0  |  4  |  2.23606797749979\n",
            "40  |  42  |  2.23606797749979\n",
            "42  |  45  |  2.23606797749979\n",
            "42  |  44  |  2.23606797749979\n",
            "42  |  48  |  2.23606797749979\n",
            "50  |  52  |  2.23606797749979\n",
            "52  |  54  |  2.23606797749979\n",
            "56  |  58  |  2.23606797749979\n",
            "60  |  64  |  2.23606797749979\n",
            "64  |  67  |  2.23606797749979\n",
            "70  |  76  |  2.23606797749979\n",
            "73  |  79  |  2.23606797749979\n",
            "74  |  77  |  2.23606797749979\n",
            "81  |  85  |  2.23606797749979\n",
            "94  |  96  |  2.23606797749979\n",
            "98  |  102  |  2.23606797749979\n",
            "99  |  102  |  2.23606797749979\n",
            "30  |  35  |  2.8284271247461903\n",
            "39  |  41  |  2.8284271247461903\n",
            "53  |  54  |  2.8284271247461903\n",
            "57  |  61  |  2.8284271247461903\n",
            "60  |  61  |  2.8284271247461903\n",
            "10  |  14  |  3.0\n",
            "21  |  23  |  3.0\n",
            "40  |  42  |  3.0\n",
            "43  |  44  |  3.0\n",
            "43  |  45  |  3.0\n",
            "43  |  44  |  3.0\n",
            "43  |  44  |  3.0\n",
            "43  |  44  |  3.0\n",
            "43  |  44  |  3.0\n",
            "43  |  45  |  3.0\n",
            "43  |  44  |  3.0\n",
            "59  |  60  |  3.0\n",
            "69  |  70  |  3.0\n",
            "2  |  5  |  3.1622776601683795\n",
            "3  |  8  |  3.1622776601683795\n",
            "22  |  24  |  3.1622776601683795\n",
            "29  |  35  |  3.1622776601683795\n",
            "31  |  34  |  3.1622776601683795\n",
            "31  |  35  |  3.1622776601683795\n",
            "31  |  35  |  3.1622776601683795\n",
            "33  |  34  |  3.1622776601683795\n",
            "41  |  43  |  3.1622776601683795\n",
            "42  |  45  |  3.1622776601683795\n",
            "57  |  60  |  3.1622776601683795\n",
            "24  |  26  |  3.605551275463989\n",
            "30  |  31  |  3.605551275463989\n",
            "36  |  46  |  3.605551275463989\n",
            "39  |  43  |  3.605551275463989\n",
            "20  |  24  |  4.0\n",
            "27  |  28  |  4.0\n",
            "28  |  29  |  4.0\n",
            "1  |  3  |  4.123105625617661\n",
            "6  |  10  |  4.123105625617661\n",
            "25  |  26  |  4.123105625617661\n",
            "25  |  27  |  4.123105625617661\n",
            "32  |  38  |  4.123105625617661\n",
            "35  |  37  |  4.123105625617661\n",
            "33  |  34  |  4.242640687119285\n",
            "33  |  39  |  4.242640687119285\n",
            "1  |  4  |  4.47213595499958\n",
            "26  |  30  |  4.47213595499958\n",
            "26  |  31  |  4.47213595499958\n",
            "26  |  32  |  4.47213595499958\n",
            "6  |  13  |  5.0\n",
            "9  |  16  |  5.0\n",
            "11  |  17  |  5.0\n",
            "16  |  20  |  5.0\n",
            "20  |  21  |  5.0\n",
            "21  |  28  |  5.0\n",
            "25  |  27  |  5.0\n",
            "25  |  27  |  5.0\n",
            "1  |  9  |  5.0990195135927845\n",
            "3  |  5  |  5.0990195135927845\n",
            "8  |  13  |  5.0990195135927845\n",
            "10  |  12  |  5.0990195135927845\n",
            "10  |  13  |  5.0990195135927845\n",
            "16  |  18  |  5.0990195135927845\n",
            "26  |  29  |  5.0990195135927845\n",
            "26  |  32  |  5.0990195135927845\n",
            "16  |  24  |  5.385164807134504\n",
            "17  |  18  |  5.385164807134504\n",
            "17  |  19  |  5.385164807134504\n",
            "21  |  23  |  5.385164807134504\n",
            "21  |  32  |  5.385164807134504\n",
            "25  |  27  |  5.385164807134504\n",
            "5  |  7  |  5.830951894845301\n",
            "24  |  30  |  5.830951894845301\n",
            "20  |  28  |  6.0\n",
            "13  |  14  |  6.082762530298219\n",
            "14  |  21  |  6.082762530298219\n",
            "17  |  19  |  6.082762530298219\n",
            "18  |  20  |  6.082762530298219\n",
            "18  |  19  |  6.082762530298219\n",
            "1  |  6  |  6.324555320336759\n",
            "2  |  6  |  6.324555320336759\n",
            "12  |  17  |  6.324555320336759\n",
            "0  |  5  |  6.4031242374328485\n",
            "6  |  8  |  6.4031242374328485\n",
            "9  |  11  |  6.4031242374328485\n",
            "8  |  9  |  7.0710678118654755\n",
            "9  |  12  |  7.0710678118654755\n",
            "1  |  6  |  7.211102550927978\n",
            "2  |  4  |  7.280109889280518\n",
            "10  |  11  |  7.280109889280518\n",
            "8  |  9  |  7.810249675906654\n",
            "15  |  17  |  7.810249675906654\n",
            "2  |  4  |  8.06225774829855\n",
            "1  |  4  |  8.602325267042627\n",
            "6  |  7  |  8.94427190999916\n",
            "5  |  7  |  9.055385138137417\n",
            "0  |  4  |  9.433981132056603\n",
            "0  |  1  |  9.433981132056603\n",
            "0  |  1  |  9.486832980505138\n",
            "0  |  3  |  10.63014581273465\n",
            "4  |  6  |  10.63014581273465\n",
            "0  |  1  |  11.661903789690601\n",
            "1  |  4  |  11.661903789690601\n",
            "1  |  2  |  13.038404810405298\n"
          ]
        },
        {
          "output_type": "display_data",
          "data": {
            "text/plain": [
              "<Figure size 432x288 with 1 Axes>"
            ],
            "image/png": "[encoded data removed]"
          },
          "metadata": {
            "needs_background": "light"
          }
        }
      ]
    },
    {
      "cell_type": "code",
      "source": [
        "X = c1.values\n",
        "# generate the linkage matrix\n",
        "single_link = linkage(X, 'single') # using single link metric to evaluate 'distance' between clusters"
      ],
      "metadata": {
        "id": "jMaHwvKo_ArC"
      },
      "execution_count": null,
      "outputs": []
    },
    {
      "cell_type": "code",
      "source": [
        "from scipy.cluster.hierarchy import cophenet\n",
        "from scipy.spatial.distance import pdist"
      ],
      "metadata": {
        "id": "GFlJVtT9-XCY"
      },
      "execution_count": null,
      "outputs": []
    },
    {
      "cell_type": "code",
      "source": [
        "c, coph_dists = cophenet(single_link, pdist(X))\n",
        "c"
      ],
      "metadata": {
        "colab": {
          "base_uri": "https://localhost:8080/"
        },
        "id": "SBuOmCSI-oMh",
        "outputId": "0bd6e04e-79a9-417c-8ee3-f81feace6c6b"
      },
      "execution_count": null,
      "outputs": [
        {
          "output_type": "execute_result",
          "data": {
            "text/plain": [
              "0.7230703278062255"
            ]
          },
          "metadata": {},
          "execution_count": 16
        }
      ]
    },
    {
      "cell_type": "code",
      "source": [
        "single_link[0]"
      ],
      "metadata": {
        "colab": {
          "base_uri": "https://localhost:8080/"
        },
        "id": "hr4kP5am_IgT",
        "outputId": "624bf76b-b653-4114-cb5f-842836d1ddc7"
      },
      "execution_count": null,
      "outputs": [
        {
          "output_type": "execute_result",
          "data": {
            "text/plain": [
              "array([48., 49.,  0.,  2.])"
            ]
          },
          "metadata": {},
          "execution_count": 17
        }
      ]
    },
    {
      "cell_type": "code",
      "source": [
        "single_link[:20]"
      ],
      "metadata": {
        "colab": {
          "base_uri": "https://localhost:8080/"
        },
        "id": "y9xjZDYE_NnP",
        "outputId": "dc2b266d-215b-4c27-e8b5-7b616138c786"
      },
      "execution_count": null,
      "outputs": [
        {
          "output_type": "execute_result",
          "data": {
            "text/plain": [
              "array([[ 48.,  49.,   0.,   2.],\n",
              "       [ 65.,  68.,   0.,   2.],\n",
              "       [156., 158.,   0.,   2.],\n",
              "       [129., 131.,   0.,   2.],\n",
              "       [ 67.,  69.,   1.,   2.],\n",
              "       [ 64.,  66.,   1.,   2.],\n",
              "       [ 60.,  61.,   1.,   2.],\n",
              "       [ 63., 201.,   1.,   3.],\n",
              "       [ 51.,  53.,   1.,   2.],\n",
              "       [ 74.,  77.,   1.,   2.],\n",
              "       [ 85., 209.,   1.,   3.],\n",
              "       [ 79.,  82.,   1.,   2.],\n",
              "       [ 78.,  80.,   1.,   2.],\n",
              "       [ 76., 212.,   1.,   3.],\n",
              "       [ 75., 213.,   1.,   4.],\n",
              "       [ 81., 214.,   1.,   5.],\n",
              "       [103., 104.,   1.,   2.],\n",
              "       [101., 109.,   1.,   2.],\n",
              "       [ 92.,  99.,   1.,   2.],\n",
              "       [ 97., 218.,   1.,   3.]])"
            ]
          },
          "metadata": {},
          "execution_count": 18
        }
      ]
    },
    {
      "cell_type": "code",
      "source": [
        "# calculate full dendrogram\n",
        "plt.figure(figsize=(25, 10))\n",
        "plt.title('Dendrogram')\n",
        "plt.xlabel('sample index')\n",
        "plt.ylabel('distance')\n",
        "dendrogram(\n",
        "    single_link,\n",
        "    leaf_rotation=90.,  # rotates the x axis labels\n",
        "    leaf_font_size=8.,  # font size for the x axis labels\n",
        "    color_threshold= .6\n",
        ")\n",
        "plt.show()"
      ],
      "metadata": {
        "colab": {
          "base_uri": "https://localhost:8080/",
          "height": 627
        },
        "id": "ZJf9x0HN_ULA",
        "outputId": "35953cf6-3067-49af-d485-4633ff3e9188"
      },
      "execution_count": null,
      "outputs": [
        {
          "output_type": "display_data",
          "data": {
            "text/plain": [
              "<Figure size 1800x720 with 1 Axes>"
            ],
            "image/png": "[encoded data removed]"
          },
          "metadata": {
            "needs_background": "light"
          }
        }
      ]
    },
    {
      "cell_type": "code",
      "source": [
        "clusters = hierarchical(c1,4)\n",
        "colors = ['blue', 'red', 'purple', 'teal']\n",
        "for cluster_index, cluster in enumerate(clusters):\n",
        "    for point_index, point in enumerate(cluster):\n",
        "        plt.plot([point[0]], [point[1]], marker='o', markersize=3, color=colors[cluster_index])"
      ],
      "metadata": {
        "colab": {
          "base_uri": "https://localhost:8080/",
          "height": 1000
        },
        "id": "QkMKfQEJ_jUZ",
        "outputId": "dc6e48d6-4020-4e6d-b0e8-ffb27c062662"
      },
      "execution_count": null,
      "outputs": [
        {
          "output_type": "stream",
          "name": "stdout",
          "text": [
            "First cluster |  Second cluster |  Distance\n",
            "48  |  49  |  0.0\n",
            "64  |  67  |  0.0\n",
            "127  |  129  |  0.0\n",
            "153  |  155  |  0.0\n",
            "21  |  23  |  1.0\n",
            "49  |  51  |  1.0\n",
            "57  |  58  |  1.0\n",
            "59  |  61  |  1.0\n",
            "60  |  61  |  1.0\n",
            "61  |  62  |  1.0\n",
            "66  |  69  |  1.0\n",
            "66  |  76  |  1.0\n",
            "67  |  68  |  1.0\n",
            "67  |  71  |  1.0\n",
            "67  |  68  |  1.0\n",
            "67  |  69  |  1.0\n",
            "68  |  69  |  1.0\n",
            "77  |  82  |  1.0\n",
            "77  |  83  |  1.0\n",
            "79  |  82  |  1.0\n",
            "79  |  87  |  1.0\n",
            "79  |  82  |  1.0\n",
            "82  |  89  |  1.0\n",
            "84  |  85  |  1.0\n",
            "86  |  91  |  1.0\n",
            "96  |  97  |  1.0\n",
            "124  |  130  |  1.0\n",
            "124  |  126  |  1.0\n",
            "125  |  128  |  1.0\n",
            "141  |  145  |  1.0\n",
            "3  |  5  |  1.4142135623730951\n",
            "9  |  11  |  1.4142135623730951\n",
            "9  |  12  |  1.4142135623730951\n",
            "22  |  24  |  1.4142135623730951\n",
            "35  |  37  |  1.4142135623730951\n",
            "46  |  49  |  1.4142135623730951\n",
            "49  |  52  |  1.4142135623730951\n",
            "49  |  53  |  1.4142135623730951\n",
            "54  |  57  |  1.4142135623730951\n",
            "67  |  69  |  1.4142135623730951\n",
            "67  |  69  |  1.4142135623730951\n",
            "67  |  76  |  1.4142135623730951\n",
            "67  |  78  |  1.4142135623730951\n",
            "67  |  80  |  1.4142135623730951\n",
            "68  |  71  |  1.4142135623730951\n",
            "72  |  76  |  1.4142135623730951\n",
            "86  |  91  |  1.4142135623730951\n",
            "95  |  97  |  1.4142135623730951\n",
            "104  |  112  |  1.4142135623730951\n",
            "2  |  5  |  2.0\n",
            "10  |  11  |  2.0\n",
            "44  |  48  |  2.0\n",
            "47  |  50  |  2.0\n",
            "53  |  56  |  2.0\n",
            "53  |  55  |  2.0\n",
            "54  |  55  |  2.0\n",
            "56  |  59  |  2.0\n",
            "59  |  71  |  2.0\n",
            "60  |  62  |  2.0\n",
            "60  |  61  |  2.0\n",
            "60  |  63  |  2.0\n",
            "60  |  63  |  2.0\n",
            "60  |  64  |  2.0\n",
            "60  |  63  |  2.0\n",
            "60  |  63  |  2.0\n",
            "60  |  62  |  2.0\n",
            "71  |  73  |  2.0\n",
            "74  |  76  |  2.0\n",
            "74  |  78  |  2.0\n",
            "85  |  88  |  2.0\n",
            "88  |  90  |  2.0\n",
            "95  |  101  |  2.0\n",
            "100  |  104  |  2.0\n",
            "0  |  4  |  2.23606797749979\n",
            "40  |  42  |  2.23606797749979\n",
            "42  |  45  |  2.23606797749979\n",
            "42  |  44  |  2.23606797749979\n",
            "42  |  48  |  2.23606797749979\n",
            "50  |  52  |  2.23606797749979\n",
            "52  |  54  |  2.23606797749979\n",
            "56  |  58  |  2.23606797749979\n",
            "60  |  64  |  2.23606797749979\n",
            "64  |  67  |  2.23606797749979\n",
            "70  |  76  |  2.23606797749979\n",
            "73  |  79  |  2.23606797749979\n",
            "74  |  77  |  2.23606797749979\n",
            "81  |  85  |  2.23606797749979\n",
            "94  |  96  |  2.23606797749979\n",
            "98  |  102  |  2.23606797749979\n",
            "99  |  102  |  2.23606797749979\n",
            "30  |  35  |  2.8284271247461903\n",
            "39  |  41  |  2.8284271247461903\n",
            "53  |  54  |  2.8284271247461903\n",
            "57  |  61  |  2.8284271247461903\n",
            "60  |  61  |  2.8284271247461903\n",
            "10  |  14  |  3.0\n",
            "21  |  23  |  3.0\n",
            "40  |  42  |  3.0\n",
            "43  |  44  |  3.0\n",
            "43  |  45  |  3.0\n",
            "43  |  44  |  3.0\n",
            "43  |  44  |  3.0\n",
            "43  |  44  |  3.0\n",
            "43  |  44  |  3.0\n",
            "43  |  45  |  3.0\n",
            "43  |  44  |  3.0\n",
            "59  |  60  |  3.0\n",
            "69  |  70  |  3.0\n",
            "2  |  5  |  3.1622776601683795\n",
            "3  |  8  |  3.1622776601683795\n",
            "22  |  24  |  3.1622776601683795\n",
            "29  |  35  |  3.1622776601683795\n",
            "31  |  34  |  3.1622776601683795\n",
            "31  |  35  |  3.1622776601683795\n",
            "31  |  35  |  3.1622776601683795\n",
            "33  |  34  |  3.1622776601683795\n",
            "41  |  43  |  3.1622776601683795\n",
            "42  |  45  |  3.1622776601683795\n",
            "57  |  60  |  3.1622776601683795\n",
            "24  |  26  |  3.605551275463989\n",
            "30  |  31  |  3.605551275463989\n",
            "36  |  46  |  3.605551275463989\n",
            "39  |  43  |  3.605551275463989\n",
            "20  |  24  |  4.0\n",
            "27  |  28  |  4.0\n",
            "28  |  29  |  4.0\n",
            "1  |  3  |  4.123105625617661\n",
            "6  |  10  |  4.123105625617661\n",
            "25  |  26  |  4.123105625617661\n",
            "25  |  27  |  4.123105625617661\n",
            "32  |  38  |  4.123105625617661\n",
            "35  |  37  |  4.123105625617661\n",
            "33  |  34  |  4.242640687119285\n",
            "33  |  39  |  4.242640687119285\n",
            "1  |  4  |  4.47213595499958\n",
            "26  |  30  |  4.47213595499958\n",
            "26  |  31  |  4.47213595499958\n",
            "26  |  32  |  4.47213595499958\n",
            "6  |  13  |  5.0\n",
            "9  |  16  |  5.0\n",
            "11  |  17  |  5.0\n",
            "16  |  20  |  5.0\n",
            "20  |  21  |  5.0\n",
            "21  |  28  |  5.0\n",
            "25  |  27  |  5.0\n",
            "25  |  27  |  5.0\n",
            "1  |  9  |  5.0990195135927845\n",
            "3  |  5  |  5.0990195135927845\n",
            "8  |  13  |  5.0990195135927845\n",
            "10  |  12  |  5.0990195135927845\n",
            "10  |  13  |  5.0990195135927845\n",
            "16  |  18  |  5.0990195135927845\n",
            "26  |  29  |  5.0990195135927845\n",
            "26  |  32  |  5.0990195135927845\n",
            "16  |  24  |  5.385164807134504\n",
            "17  |  18  |  5.385164807134504\n",
            "17  |  19  |  5.385164807134504\n",
            "21  |  23  |  5.385164807134504\n",
            "21  |  32  |  5.385164807134504\n",
            "25  |  27  |  5.385164807134504\n",
            "5  |  7  |  5.830951894845301\n",
            "24  |  30  |  5.830951894845301\n",
            "20  |  28  |  6.0\n",
            "13  |  14  |  6.082762530298219\n",
            "14  |  21  |  6.082762530298219\n",
            "17  |  19  |  6.082762530298219\n",
            "18  |  20  |  6.082762530298219\n",
            "18  |  19  |  6.082762530298219\n",
            "1  |  6  |  6.324555320336759\n",
            "2  |  6  |  6.324555320336759\n",
            "12  |  17  |  6.324555320336759\n",
            "0  |  5  |  6.4031242374328485\n",
            "6  |  8  |  6.4031242374328485\n",
            "9  |  11  |  6.4031242374328485\n",
            "8  |  9  |  7.0710678118654755\n",
            "9  |  12  |  7.0710678118654755\n",
            "1  |  6  |  7.211102550927978\n",
            "2  |  4  |  7.280109889280518\n",
            "10  |  11  |  7.280109889280518\n",
            "8  |  9  |  7.810249675906654\n",
            "15  |  17  |  7.810249675906654\n",
            "2  |  4  |  8.06225774829855\n",
            "1  |  4  |  8.602325267042627\n",
            "6  |  7  |  8.94427190999916\n",
            "5  |  7  |  9.055385138137417\n",
            "0  |  4  |  9.433981132056603\n",
            "0  |  1  |  9.433981132056603\n",
            "0  |  1  |  9.486832980505138\n",
            "0  |  3  |  10.63014581273465\n",
            "4  |  6  |  10.63014581273465\n",
            "0  |  1  |  11.661903789690601\n",
            "1  |  4  |  11.661903789690601\n",
            "1  |  2  |  13.038404810405298\n",
            "0  |  1  |  13.341664064126334\n",
            "1  |  3  |  13.416407864998739\n",
            "0  |  1  |  13.45362404707371\n"
          ]
        },
        {
          "output_type": "display_data",
          "data": {
            "text/plain": [
              "<Figure size 432x288 with 1 Axes>"
            ],
            "image/png": "[encoded data removed]"
          },
          "metadata": {
            "needs_background": "light"
          }
        }
      ]
    }
  ]
}